{
  "nbformat": 4,
  "nbformat_minor": 0,
  "metadata": {
    "colab": {
      "name": "notebook.ipynb",
      "provenance": [],
      "collapsed_sections": [],
      "private_outputs": true
    },
    "kernelspec": {
      "name": "python3",
      "display_name": "Python 3"
    },
    "language_info": {
      "name": "python"
    },
    "gpuClass": "standard"
  },
  "cells": [
    {
      "cell_type": "markdown",
      "source": [
        ""
      ],
      "metadata": {
        "id": "pGxmugpoEdhI"
      }
    },
    {
      "cell_type": "code",
      "source": [
        "! git clone https://github.com/Tikquuss/lwd_grokking"
      ],
      "metadata": {
        "id": "mMZ3OqX1Edsw"
      },
      "execution_count": null,
      "outputs": []
    },
    {
      "cell_type": "code",
      "source": [
        "%cd lwd_grokking"
      ],
      "metadata": {
        "id": "xBNNuD7kEl0t"
      },
      "execution_count": null,
      "outputs": []
    },
    {
      "cell_type": "code",
      "source": [
        "! pip install -r requirements.txt"
      ],
      "metadata": {
        "id": "5pv6PGeREswc"
      },
      "execution_count": null,
      "outputs": []
    },
    {
      "cell_type": "code",
      "source": [
        "import os\n",
        "\n",
        "from src.modeling import Model"
      ],
      "metadata": {
        "id": "IA9iH5WrG0Tt"
      },
      "execution_count": null,
      "outputs": []
    },
    {
      "cell_type": "code",
      "source": [
        "%load_ext tensorboard"
      ],
      "metadata": {
        "id": "KGRcxplZSFg3"
      },
      "execution_count": null,
      "outputs": []
    },
    {
      "cell_type": "markdown",
      "source": [
        "# Train"
      ],
      "metadata": {
        "id": "GZe3FR8eN6j7"
      }
    },
    {
      "cell_type": "code",
      "source": [
        "#! wandb login 27a83be2529992fa4451956a0536d35825426b45"
      ],
      "metadata": {
        "id": "2-dfiwkVrSmu"
      },
      "execution_count": null,
      "outputs": []
    },
    {
      "cell_type": "markdown",
      "source": [
        "## cmd"
      ],
      "metadata": {
        "id": "vue6uRmx8nDS"
      }
    },
    {
      "cell_type": "markdown",
      "source": [
        "##### On run"
      ],
      "metadata": {
        "id": "rPXguvhXDSpV"
      }
    },
    {
      "cell_type": "code",
      "source": [
        "! chmod +x train.sh \n",
        "! ./train.sh Styblinski-Tang"
      ],
      "metadata": {
        "id": "sGM4xbctDSIm"
      },
      "execution_count": null,
      "outputs": []
    },
    {
      "cell_type": "code",
      "source": [
        "%tensorboard --logdir /content/log_files/0/Styblinski-Tang:ndim=2-tdf=80-wd=0.0-lr=0.001-d=0.0-opt=adam-alpha=1.0-beta=1.0/lightning_logs"
      ],
      "metadata": {
        "id": "33-1ywBPSOL_"
      },
      "execution_count": null,
      "outputs": []
    },
    {
      "cell_type": "code",
      "source": [
        "pretrained_filename = \"/content/log_files/0/Styblinski-Tang:ndim=2-tdf=80-wd=0.0-lr=0.001-d=0.0-opt=adam-alpha=1.0-beta=1.0/epoch=0-val_loss_y=1997.3793.ckpt\"\n",
        "model = Model.load_from_checkpoint(pretrained_filename)"
      ],
      "metadata": {
        "id": "zDC_CjBcDutA"
      },
      "execution_count": null,
      "outputs": []
    },
    {
      "cell_type": "code",
      "source": [
        "#! rm -r /content/log_files/0"
      ],
      "metadata": {
        "id": "hG1JGI32IveY"
      },
      "execution_count": null,
      "outputs": []
    },
    {
      "cell_type": "markdown",
      "source": [
        "##### Multiple run (for phase diagram)"
      ],
      "metadata": {
        "id": "vNrPMWndDVwM"
      }
    },
    {
      "cell_type": "code",
      "source": [
        "! chmod +x train_loop.sh \n",
        "! ./train_loop.sh Styblinski-Tang"
      ],
      "metadata": {
        "id": "XNNrGVDa8qZ-"
      },
      "execution_count": null,
      "outputs": []
    },
    {
      "cell_type": "code",
      "source": [
        "#! rm -r /content/log_files"
      ],
      "metadata": {
        "id": "6AcZoEgEjJsk"
      },
      "execution_count": null,
      "outputs": []
    },
    {
      "cell_type": "markdown",
      "source": [
        "## Without cmd (see multiple_runs.py) : Allows to visualize directly the embedding evolution in the notebook output"
      ],
      "metadata": {
        "id": "YUJyQr3x8SOb"
      }
    },
    {
      "cell_type": "code",
      "source": [
        "from src.utils import AttrDict\n",
        "from src.dataset import get_dataloader\n",
        "from src.trainer import train\n",
        "from src.functions import get_function"
      ],
      "metadata": {
        "id": "6FA9Q0jRAUOa"
      },
      "execution_count": null,
      "outputs": []
    },
    {
      "cell_type": "code",
      "source": [
        "# Styblinski-Tang, Ackley, Beale, Booth, Bukin, McCormick, Rosenbrock, Sum, Prod\n",
        "f_name=\"Styblinski-Tang\"\n",
        "train_pct=80\n",
        "weight_decay=0.0\n",
        "lr=0.001\n",
        "dropout=0.0\n",
        "opt=\"adam\"\n",
        "ndim=2\n",
        "group_name=f\"{f_name}:ndim={ndim}-tdf={train_pct}-wd={weight_decay}-lr={lr}-d={dropout}-opt={opt}\"\n",
        "random_seed=0\n",
        "log_dir=\"../log_files\"\n",
        "alpha=1.0\n",
        "beta=1.0\n",
        "params = AttrDict({\n",
        "    ### Main parameters\n",
        "    \"exp_id\" : f\"{group_name}\",\n",
        "    \"log_dir\" : f\"{log_dir}/{random_seed}\",\n",
        "\n",
        "    ### Model\n",
        "    \"hidden_dim\" : 512,  \n",
        "    \"n_layers\" : 1,\n",
        "    \"dropout\" : dropout,\n",
        "\n",
        "    ### Dataset\n",
        "    \"func_params\": AttrDict({\"f_name\" : f_name}),\n",
        "    #\"func_params\" : AttrDict({\"f_name\" : f_name, \"min_x\": -5, \"max_x\" : 5, \"min_y\" : -5, \"max_y\" : 5, \"step_x\" : 0.25, \"step_y\" : 0.25}),\n",
        "    \"ndim\" : 2,\n",
        "    \"num_samples\" : 1000,\n",
        "    \"noise_params\" : None,\n",
        "    #\"noise_params\" : {\"distribution\" : \"normal\", \"loc\" : 0.0, \"scale\" : 1.0},\n",
        "    \"normalize\" : False,\n",
        "    \"train_pct\" : train_pct,\n",
        "    \"batch_size\" : 512,\n",
        "       \n",
        "    ### Optimizer\n",
        "    \"optimizer\" : f\"{opt},lr={lr},weight_decay={weight_decay},beta1=0.9,beta2=0.99,eps=0.00000001\",\n",
        "    #\"alpha_beta\" : None, \n",
        "    \"alpha_beta\" : {\"alpha\" : alpha, \"beta\" : beta}, \n",
        " \n",
        "    ### LR Scheduler\n",
        "    \"lr_scheduler\" : None,\n",
        "    #\"lr_scheduler\" : \"reduce_lr_on_plateau,factor=0.2,patience=20,min_lr=0.00005,mode=min,monitor=val_loss_y\",\n",
        "        \n",
        "    ### Training\n",
        "    \"max_epochs\" : 10000, \n",
        "    \"validation_metrics\" : \"val_loss_y\",\n",
        "    \"checkpoint_path\" : None, \n",
        "    \"model_name\": \"None\", \n",
        "    \"every_n_epochs\":100, \n",
        "    \"every_n_epochs_show\":200, \n",
        "    \"early_stopping_patience\":1e9, \n",
        "    \"save_top_k\":-1,\n",
        "\n",
        "    # Wandb \n",
        "    \"use_wandb\" : False,\n",
        "    \"wandb_entity\" : \"grokking_ppsp\",\n",
        "    \"wandb_project\" : f\"lerning_with_derivative\",\n",
        "    \"group_name\" : group_name,\n",
        "\n",
        "    \"group_vars\" : None,\n",
        "\n",
        "    ### Intrinsic Dimension Estimation\n",
        "    #\"ID_params\" : {},\n",
        "    #\"ID_params\": {\"method\" : \"mle\", \"k\":2},\n",
        "    \"ID_params\": {\"method\" : \"twonn\"},\n",
        "        \n",
        "    ### Devices & Seed\n",
        "    \"accelerator\" : \"auto\",\n",
        "    \"devices\" : \"auto\",\n",
        "    \"random_seed\": random_seed,\n",
        "\n",
        "    ### Early_stopping (for grokking) : Stop the training `patience` epochs after the `metric` has reached the value `metric_threshold` \n",
        "    #\"early_stopping_grokking\" : None,\n",
        "    \"early_stopping_grokking\" : \"patience=int(1000),metric=str(val_loss_y),metric_threshold=float(0.0)\"\n",
        "})\n",
        "if params.alpha_beta is not None : \n",
        "    params.group_name=f\"{params.group_name}-alpha={alpha}-beta={beta}\"\n",
        "    params.exp_id=params.group_name\n",
        "params[\"weight_decay\"] = weight_decay\n",
        "params[\"f_name\"] = f_name\n",
        "func_params = get_function(params.func_params)\n",
        "params.func_params = func_params\n",
        "train_loader, val_loader, dataloader, data_infos, data_config = get_dataloader(\n",
        "    func_params.callable_function, params.ndim, func_params.min_x, func_params.max_x, params.num_samples, params.train_pct, \n",
        "    deriv_function = getattr(func_params, \"callable_function_deriv\", None), noise_params=params.noise_params, \n",
        "    batch_size=params.batch_size, num_workers=2, normalize=params.normalize\n",
        ")\n",
        "params[\"data_infos\"] = data_infos\n",
        "params[\"data_config\"] = data_config"
      ],
      "metadata": {
        "id": "EqPdNE_uWm5C"
      },
      "execution_count": null,
      "outputs": []
    },
    {
      "cell_type": "markdown",
      "source": [
        "##### On run"
      ],
      "metadata": {
        "id": "-NRGCIlA9bhY"
      }
    },
    {
      "cell_type": "code",
      "source": [
        "model, result = train(params, train_loader, val_loader)"
      ],
      "metadata": {
        "id": "sThynjEc9dub"
      },
      "execution_count": null,
      "outputs": []
    },
    {
      "cell_type": "code",
      "source": [
        "%tensorboard --logdir /content/log_files/0/Styblinski-Tang:ndim=2-tdf=80-wd=0.0-lr=0.001-d=0.0-opt=adam-alpha=1.0-beta=1.0/lightning_logs"
      ],
      "metadata": {
        "id": "K9nww6oiSJ9X"
      },
      "execution_count": null,
      "outputs": []
    },
    {
      "cell_type": "code",
      "source": [
        "#! rm -r /content/log_files/0"
      ],
      "metadata": {
        "id": "6lcvELg7JDU6"
      },
      "execution_count": null,
      "outputs": []
    },
    {
      "cell_type": "markdown",
      "source": [
        "##### Multiple run (for phase diagram) : see multiple_runs.py or train_parallel.py"
      ],
      "metadata": {
        "id": "Ed9z7mmMbTka"
      }
    },
    {
      "cell_type": "code",
      "source": [
        "#! python multiple_runs.py\n",
        "#! python train_parallel.py --parallel False --f_name Styblinski-Tang --ndim 2"
      ],
      "metadata": {
        "id": "LDzE4RFopzaf"
      },
      "execution_count": null,
      "outputs": []
    },
    {
      "cell_type": "code",
      "source": [
        "#! rm -r /content/log_files"
      ],
      "metadata": {
        "id": "DzGeI8mItTBP"
      },
      "execution_count": null,
      "outputs": []
    },
    {
      "cell_type": "code",
      "source": [
        "import numpy as np\n",
        "\n",
        "from multiple_runs import plot_results, itertools\n",
        "from src.utils import get_group_name"
      ],
      "metadata": {
        "id": "dpflv6G5Js2f"
      },
      "execution_count": null,
      "outputs": []
    },
    {
      "cell_type": "code",
      "source": [
        "lrs = [1e-3]\n",
        "#lrs = [1e-2, 1e-3, 1e-4, 1e-5] \n",
        "#lrs = np.linspace(start=1e-1, stop=1e-5, num=10)\n",
        "\n",
        "weight_decays = [0.0]\n",
        "#weight_decays = list(range(20))\n",
        "#weight_decays =  np.linspace(start=0, stop=20, num=21)\n",
        "\n",
        "print(lrs, weight_decays)"
      ],
      "metadata": {
        "id": "I4-isRL9KwKT"
      },
      "execution_count": null,
      "outputs": []
    },
    {
      "cell_type": "code",
      "source": [
        "model_dict = {}\n",
        "i = 0\n",
        "for a, b in itertools.product(lrs, weight_decays) :\n",
        "    params[\"lr\"] = a \n",
        "    params[\"optimizer\"] = params[\"optimizer\"].replace(f\"weight_decay={weight_decay}\", f\"weight_decay={b}\")\n",
        "    \n",
        "    name = f\"lr={a},weight_decay={b}\"\n",
        "    params.exp_id = name\n",
        "        \n",
        "    #group_vars = GROUP_VARS + [\"lr\", s]\n",
        "    group_vars = [\"lr\", \"weight_decay\"]\n",
        "    group_vars = list(set(group_vars))\n",
        "    params[\"group_name\"] = get_group_name(params, group_vars = None)\n",
        "        \n",
        "    print(\"*\"*10, i, name, \"*\"*10)\n",
        "    i+=1\n",
        "\n",
        "    model, result = train(params, train_loader, val_loader)\n",
        "        \n",
        "    model_dict[name] = {\"model\": model, \"result\": result}"
      ],
      "metadata": {
        "id": "f9U3jz-bIcB-"
      },
      "execution_count": null,
      "outputs": []
    },
    {
      "cell_type": "code",
      "source": [
        "print(model_dict.keys())"
      ],
      "metadata": {
        "id": "R4REND4yK15u"
      },
      "execution_count": null,
      "outputs": []
    },
    {
      "cell_type": "code",
      "source": [
        "val_loss = [model_dict[k][\"result\"][\"val\"][\"val_loss_y\"] for k in model_dict]\n",
        "val_loss_dydx = [model_dict[k][\"result\"][\"val\"][\"val_loss_dydx\"] for k in model_dict]\n",
        "print(val_loss, val_loss_dydx)"
      ],
      "metadata": {
        "id": "u0s6SL3QLX-E"
      },
      "execution_count": null,
      "outputs": []
    },
    {
      "cell_type": "code",
      "source": [
        "plot_results(params, model_dict, \n",
        "    hparms_1 = lrs, hparms_2 = weight_decays,\n",
        "    s1 = 'lr', s2 = \"weight_decay\",\n",
        "    title = None, save_to = f\"{params.log_dir}/result_multiple_run.png\", show = True\n",
        ")"
      ],
      "metadata": {
        "id": "D_vDlEXELV1k"
      },
      "execution_count": null,
      "outputs": []
    },
    {
      "cell_type": "code",
      "source": [
        "import math\n",
        "import torch\n",
        "\n",
        "phases = {\"grokking\" : 0, \"comprehension\" : 1, \"memorization\" : 2, \"confusion\" : 3}\n",
        "\n",
        "M = len(lrs)\n",
        "N = len(weight_decays)\n",
        "img = torch.zeros(size=(M,N), dtype=int)\n",
        "\n",
        "for i in range(M) :\n",
        "    for j in range(N) :\n",
        "        a = lrs[i]\n",
        "        b = weight_decays[j]\n",
        "        name = f\"lr={a}, weight_decay={b}\"\n",
        "        # model = model_dict[name][\"model\"]\n",
        "        # if model.confusion : img[i][j] = phases[\"confusion\"]\n",
        "        # elif model.memorization : img[i][j] = phases[\"memorization\"]\n",
        "        # else : # grokking or comprehension\n",
        "        #     \"\"\"\n",
        "        #     The difference between grokking and comprehension is the number of training steps or epochs that separate memorization and comprehension, \n",
        "        #     because the model potentially goes through the following phases : confusion > memorization > comprehension\n",
        "        #     \"\"\"\n",
        "        #     grok = model.grok\n",
        "        #     comprehension = model.comprehension\n",
        "        #     # In this phase : 0 <= model.memo_epoch <= model.comp_epoch < +inf\n",
        "        #     diff_epoch = model.comp_epoch - model.memo_epoch\n",
        "        #     if not math.isnan(diff_epoch) : \n",
        "        #         grok = diff_epoch >= 100\n",
        "        #         comprehension = not grok\n",
        "        #     img[i][j] = phases[\"grokking\"] if grok else phases[\"comprehension\"]\n",
        "\n",
        "        img[i][j] = np.random.randint(\n",
        "            #low=0, \n",
        "            low=1, \n",
        "            high=3+1,\n",
        "            #high=2+1\n",
        "        )"
      ],
      "metadata": {
        "id": "HjCR126FhiN0"
      },
      "execution_count": null,
      "outputs": []
    },
    {
      "cell_type": "code",
      "source": [
        "from src.visualize_phases import visualize_phases"
      ],
      "metadata": {
        "id": "qBrsgecRnM67"
      },
      "execution_count": null,
      "outputs": []
    },
    {
      "cell_type": "code",
      "source": [
        "_ = visualize_phases(img, phases, \n",
        "                     interpolation='hermite', \n",
        "                     title = None, save_to = None, show = True, pixel_wise_text = False\n",
        ")"
      ],
      "metadata": {
        "id": "V0lK7RamTl7T"
      },
      "execution_count": null,
      "outputs": []
    },
    {
      "cell_type": "code",
      "source": [
        "%tensorboard --logdir '/content/log_files/0/lr=0.001, weight_decay=0.0/lightning_logs'"
      ],
      "metadata": {
        "id": "RJwTfAhLuv3_"
      },
      "execution_count": null,
      "outputs": []
    },
    {
      "cell_type": "markdown",
      "source": [
        "## Video animation (visualize the evolution of embedding during training)"
      ],
      "metadata": {
        "id": "_xEld2ZhNKJF"
      }
    },
    {
      "cell_type": "code",
      "source": [
        "from src.trainer import images_to_vidoe"
      ],
      "metadata": {
        "id": "Q_4CovBSE15b"
      },
      "execution_count": null,
      "outputs": []
    },
    {
      "cell_type": "code",
      "source": [
        "root_dir = os.path.join(model.hparams.log_dir, model.hparams.exp_id, \"images\")\n",
        "for dirname in os.listdir(root_dir) :\n",
        "    image_folder = os.path.join(root_dir, dirname)\n",
        "    if os.path.isdir(image_folder):\n",
        "        print(image_folder)\n",
        "        try :\n",
        "            video_path = os.path.join(model.hparams.log_dir, model.hparams.exp_id, f'{dirname}.avi')\n",
        "            images_to_vidoe(image_folder, video_path, format=\"png\")\n",
        "            print(video_path)\n",
        "        except IndexError: #list index out of range\n",
        "            print(\"Error\")"
      ],
      "metadata": {
        "id": "6jywyMXpNcfk"
      },
      "execution_count": null,
      "outputs": []
    },
    {
      "cell_type": "code",
      "source": [
        "root_dir = os.path.join(model.hparams.log_dir, model.hparams.exp_id, \"images\")\n",
        "video_path = os.path.join(model.hparams.log_dir, model.hparams.exp_id, f'grid.avi')\n",
        "print(video_path)\n",
        "images_to_vidoe(root_dir, video_path, format=\"png\")"
      ],
      "metadata": {
        "id": "akBzjYOpNPYR"
      },
      "execution_count": null,
      "outputs": []
    }
  ]
}